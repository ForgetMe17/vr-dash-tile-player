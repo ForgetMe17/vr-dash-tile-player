{
 "cells": [
  {
   "cell_type": "code",
   "execution_count": 1,
   "metadata": {},
   "outputs": [],
   "source": [
    "import sys\n",
    "import argparse\n",
    "import json"
   ]
  },
  {
   "cell_type": "code",
   "execution_count": 2,
   "metadata": {},
   "outputs": [],
   "source": [
    "# input: arg1-base_dir arg2-row arg3-col arg4-gop\n",
    "gop=30\n",
    "num_row=4\n",
    "num_col=4\n",
    "face_w=852\n",
    "face_h=720\n",
    "face_cubic=720\n",
    "dash_len=gop*0.033"
   ]
  },
  {
   "cell_type": "code",
   "execution_count": 3,
   "metadata": {},
   "outputs": [],
   "source": [
    "def get_cor_pos(face, row, col, tile_row, tile_col, face_cubic):\n",
    "    const_off = face_cubic * 0.5 * num_row\n",
    "    if face == 0:\n",
    "        off_row = -(row+0.5) * face_cubic + tile_row/2 * face_cubic\n",
    "        off_col = (col+0.5) * face_cubic - tile_col/2 * face_cubic\n",
    "        [rx, ry, rz] = [0, 270, 0]\n",
    "        [x_, y_, z_] = [const_off, off_row, off_col]\n",
    "    elif face == 1:\n",
    "        off_row = -(row+0.5) * face_cubic + tile_row/2 * face_cubic\n",
    "        off_col = -(col+0.5) * face_cubic + tile_col/2 * face_cubic\n",
    "        [rx, ry, rz] = [0, 90, 0]\n",
    "        [x_, y_, z_] = [-const_off, off_row, off_col]\n",
    "    elif face == 2:\n",
    "        off_row = -(row+0.5) * face_cubic + tile_row/2 * face_cubic\n",
    "        off_col = (col+0.5) * face_cubic - tile_col/2 * face_cubic\n",
    "        [rx, ry, rz] = [90, 0, 0]\n",
    "        [x_, y_, z_] = [off_col, const_off, off_row]\n",
    "    elif face == 3:\n",
    "        off_row = (row+0.5) * face_cubic - tile_row/2 * face_cubic\n",
    "        off_col = (col+0.5) * face_cubic - tile_col/2 * face_cubic\n",
    "        [rx, ry, rz] = [-90, 0, 0]\n",
    "        [x_, y_, z_] = [off_col, -const_off, off_row]\n",
    "    elif face == 4:\n",
    "        off_row = -(row+0.5) * face_cubic + tile_row/2 * face_cubic\n",
    "        off_col = (col+0.5) * face_cubic - tile_col/2 * face_cubic\n",
    "        [rx, ry, rz] = [0, 0, 0]\n",
    "        [x_, y_, z_] = [off_col, off_row, -const_off]\n",
    "    elif face == 5:\n",
    "        off_row = -(row+0.5) * face_cubic + tile_row/2 * face_cubic\n",
    "        off_col = -(col+0.5) * face_cubic + tile_col/2 * face_cubic\n",
    "        [rx, ry, rz] = [0, 180, 0]\n",
    "        [x_, y_, z_] = [off_col, off_row, const_off]\n",
    "    return [rx, ry, rz, x_, y_, z_]"
   ]
  },
  {
   "cell_type": "code",
   "execution_count": 4,
   "metadata": {},
   "outputs": [],
   "source": [
    "face_list = []\n",
    "label_video = \"\"\n",
    "label_a_entity = \"\"\n",
    "video_idx = 0\n",
    "for face in range(0, 6):\n",
    "    row_list = []\n",
    "    for row in range(0, num_row):\n",
    "        col_list = []\n",
    "        for col in range(0, num_col):\n",
    "            # json doc\n",
    "            col_dict = {}\n",
    "            col_dict['src'] = \"face%d/tile%d/dash/stream.mpd\" % (face, row * num_col + col)\n",
    "            col_dict['width'] = face_w / num_col\n",
    "            col_dict['height'] = face_h / num_row\n",
    "            [rx, ry, rz, x_, y_, z_] = get_cor_pos(face, row, col, num_row, num_col, face_cubic)\n",
    "            col_dict['rx'] = rx\n",
    "            col_dict['ry'] = ry\n",
    "            col_dict['rz'] = rz\n",
    "            col_dict['x'] = x_\n",
    "            col_dict['y'] = y_\n",
    "            col_dict['z'] = z_\n",
    "            col_list.append(col_dict)\n",
    "            \n",
    "            # html doc\n",
    "            label_video += \"\"\"<video id=\"video_%d\" preload=\"auto\" width=\"%d\" height=\"%d\" autoplay loop=\"false\" crossOrigin=\"anonymous\" muted>\n",
    "            </video>\"\"\" % (video_idx, face_cubic, face_cubic)\n",
    "            label_a_entity += \"\"\"<a-entity material=\"shader: flat; src: #video_%d\" \n",
    "            geometry=\"primitive: plane; width: %d; height: %d;\"\n",
    "                        position=\"%d %d %d\"\n",
    "                        rotation=\"%d %d %d\"\n",
    "                        visible=\"true\">\n",
    "                        </a-entity>\t\"\"\" % (video_idx, face_cubic, face_cubic, x_, y_, z_, rx, ry, rz)\n",
    "            video_idx += 1\n",
    "        row_list.append(col_list)\n",
    "    face_list.append(row_list)"
   ]
  },
  {
   "cell_type": "code",
   "execution_count": 5,
   "metadata": {},
   "outputs": [],
   "source": [
    "json_file = {}\n",
    "json_file['tiles'] = face_list\n",
    "json_file['baseUrl'] = \"http://10.134.116.112:5555/dataset/dashed/1-2-Front-180s/\"\n",
    "json_file['face'] = 6\n",
    "json_file['row'] = num_row\n",
    "json_file['col'] = num_col\n",
    "json_file['duration'] = dash_len\n",
    "json_file['ssresults'] = \"ssresultstile.json\"\n",
    "with open(\"dashed/1-2-Front-180s/streaming.json\", \"w\") as f:\n",
    "    json.dump(json_file, f)"
   ]
  },
  {
   "cell_type": "code",
   "execution_count": 6,
   "metadata": {},
   "outputs": [],
   "source": [
    "html_doc = \"\"\"<!DOCTYPE html>\n",
    "\n",
    "<html lang=\"en\">\n",
    "\n",
    "    <head>\n",
    "\n",
    "\t\t<meta charset=\"utf-8\"/>\n",
    "\t\t<title>ball_video</title>\n",
    "\t\t\n",
    "\t\t<script src=\"./aframe/dist/aframe-master.js\"></script>\n",
    "\n",
    "\t\t<style>\n",
    "\t\t\tbody {\n",
    "\t\t\t\tbackground-color: #000000;\n",
    "\t\t\t}\n",
    "\t\t</style>\n",
    "\t\t\n",
    "\t</head>\n",
    "\t\n",
    "    <body>\n",
    "\n",
    "\t\t<a-scene>\n",
    "\n",
    "\t\t\t<a-camera></a-camera>\n",
    "\n",
    "\t\t\t<a-assets>\n",
    "%s\n",
    "\t\t\t</a-assets>\n",
    "\t  \n",
    "%s\n",
    "\n",
    "\t\t</a-scene>\n",
    "        \n",
    "\t</body>\n",
    "\t\n",
    "</html>\"\"\" % (label_video, label_a_entity)\n",
    "with open(\"../aframe-based-tile-player/6_%d_%d.html\"%(num_row, num_col), \"w+\") as f:\n",
    "    f.write(html_doc)"
   ]
  },
  {
   "cell_type": "code",
   "execution_count": null,
   "metadata": {},
   "outputs": [],
   "source": []
  },
  {
   "cell_type": "code",
   "execution_count": 7,
   "metadata": {},
   "outputs": [],
   "source": [
    "# import matplotlib.pyplot as plt\n",
    "# def get_cor_pos(face, row, col, tile_row, tile_col, face_cubic):\n",
    "#     off_row = -(row+0.5) * face_cubic / tile_row + 0.5 * face_cubic\n",
    "#     off_col = -(col+0.5) * face_cubic / tile_col + 0.5 * face_cubic\n",
    "#     off_row *= 2\n",
    "#     off_col *= 2\n",
    "#     if face == 0:\n",
    "#         [rx, ry, rz] = [0, 270, 0]\n",
    "#         [x_, y_, z_] = [face_cubic/2, off_row, off_col]\n",
    "#     elif face == 1:\n",
    "#         [rx, ry, rz] = [0, 90, 0]\n",
    "#         [x_, y_, z_] = [-face_cubic/2, off_row, off_col]\n",
    "#     elif face == 2:\n",
    "#         [rx, ry, rz] = [90, 0, 180]\n",
    "#         [x_, y_, z_] = [off_col, face_cubic/2, off_row]\n",
    "#     elif face == 3:\n",
    "#         [rx, ry, rz] = [-90, 0, 180]\n",
    "#         [x_, y_, z_] = [off_col, -face_cubic/2, off_row]\n",
    "#     elif face == 4:\n",
    "#         [rx, ry, rz] = [0, 0, 0]\n",
    "#         [x_, y_, z_] = [off_col, off_row, face_cubic/2]\n",
    "#     elif face == 5:\n",
    "#         [rx, ry, rz] = [0, 180, 0]\n",
    "#         [x_, y_, z_] = [off_col, 0, -face_cubic/2]\n",
    "#     return [x_, y_, z_]\n",
    "# %matplotlib notebook\n",
    "# fig = plt.figure() \n",
    "# colorc= ['red', 'green', 'blue', 'yellow', 'black', 'white']\n",
    "# ax = fig.add_subplot(111, projection='3d') \n",
    "# for i in range(0, 6):\n",
    "#     for j in range(0, 3):\n",
    "#         for k in range(0, 3):\n",
    "#             [x_, y_, z_] = get_cor_pos(i, j, k, 3, 3,100)\n",
    "#             print([x_, y_, z_])\n",
    "#             ax.scatter(x_, y_, z_, c=colorc[i])"
   ]
  },
  {
   "cell_type": "code",
   "execution_count": 8,
   "metadata": {},
   "outputs": [
    {
     "data": {
      "text/plain": [
       "1.5"
      ]
     },
     "execution_count": 8,
     "metadata": {},
     "output_type": "execute_result"
    }
   ],
   "source": [
    "3/2"
   ]
  },
  {
   "cell_type": "code",
   "execution_count": null,
   "metadata": {},
   "outputs": [],
   "source": []
  }
 ],
 "metadata": {
  "kernelspec": {
   "display_name": "Python 3",
   "language": "python",
   "name": "python3"
  },
  "language_info": {
   "codemirror_mode": {
    "name": "ipython",
    "version": 3
   },
   "file_extension": ".py",
   "mimetype": "text/x-python",
   "name": "python",
   "nbconvert_exporter": "python",
   "pygments_lexer": "ipython3",
   "version": "3.6.6"
  }
 },
 "nbformat": 4,
 "nbformat_minor": 4
}
