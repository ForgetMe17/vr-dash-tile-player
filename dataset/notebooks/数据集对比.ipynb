{
 "cells": [
  {
   "cell_type": "code",
   "execution_count": 3,
   "metadata": {},
   "outputs": [
    {
     "name": "stdout",
     "output_type": "stream",
     "text": [
      "[[-0.88113   0.135792  0.452596]\n",
      " [ 0.065344  0.98364  -0.167868]\n",
      " [-0.467988 -0.118364 -0.875586]]\n",
      "[[-0.88129367  0.13580381  0.45263538]\n",
      " [ 0.06534969  0.98363858 -0.16788261]\n",
      " [-0.46802872 -0.1183743  -0.87574919]]\n",
      "r1-r2 0.0004507886546136347\n",
      "\n",
      "Euler\n",
      "[9.694, 152.635, 3.752]\n"
     ]
    },
    {
     "ename": "AttributeError",
     "evalue": "'Quaternion' object has no attribute 'euler_angles'",
     "output_type": "error",
     "traceback": [
      "\u001b[1;31m---------------------------------------------------------------------------\u001b[0m",
      "\u001b[1;31mAttributeError\u001b[0m                            Traceback (most recent call last)",
      "\u001b[1;32m<ipython-input-3-ea042edd6eb7>\u001b[0m in \u001b[0;36m<module>\u001b[1;34m\u001b[0m\n\u001b[0;32m     40\u001b[0m \u001b[0mprint\u001b[0m\u001b[1;33m(\u001b[0m\u001b[0meuler\u001b[0m\u001b[1;33m)\u001b[0m\u001b[1;33m\u001b[0m\u001b[0m\n\u001b[0;32m     41\u001b[0m \u001b[1;33m\u001b[0m\u001b[0m\n\u001b[1;32m---> 42\u001b[1;33m \u001b[0mz\u001b[0m\u001b[1;33m,\u001b[0m \u001b[0my\u001b[0m\u001b[1;33m,\u001b[0m \u001b[0mx\u001b[0m \u001b[1;33m=\u001b[0m \u001b[0mQ2\u001b[0m\u001b[1;33m.\u001b[0m\u001b[0meuler_angles\u001b[0m\u001b[1;33m(\u001b[0m\u001b[1;34m\"YXZ\"\u001b[0m\u001b[1;33m)\u001b[0m\u001b[1;33m\u001b[0m\u001b[0m\n\u001b[0m\u001b[0;32m     43\u001b[0m \u001b[0mprint\u001b[0m\u001b[1;33m(\u001b[0m\u001b[0mnp\u001b[0m\u001b[1;33m.\u001b[0m\u001b[0mdegrees\u001b[0m\u001b[1;33m(\u001b[0m\u001b[1;33m[\u001b[0m\u001b[0mx\u001b[0m\u001b[1;33m,\u001b[0m \u001b[0my\u001b[0m\u001b[1;33m,\u001b[0m \u001b[0mz\u001b[0m\u001b[1;33m]\u001b[0m\u001b[1;33m)\u001b[0m\u001b[1;33m%\u001b[0m\u001b[1;36m360\u001b[0m\u001b[1;33m)\u001b[0m\u001b[1;33m\u001b[0m\u001b[0m\n",
      "\u001b[1;31mAttributeError\u001b[0m: 'Quaternion' object has no attribute 'euler_angles'"
     ]
    }
   ],
   "source": [
    "import numpy as np\n",
    "\n",
    "data = [0.052,0.967,-0.074,0.238,9.694,152.635,3.752]\n",
    "# data = [-0.032,-0.682,-0.029,0.730,355.046,273.956,0.066]\n",
    "# data = [0.015,-0.274,0.017,0.961,2.216,328.194,1.401]\n",
    "# data = [-0.008,0.853,0.025,0.522,357.027,117.046,0.726]\n",
    "# data = [0.115,0.026,-0.138,0.983,13.441,1.094,344.156]\n",
    "# data = [0.034,0.979,-0.181,0.083,21.124,170.745,2.283]\n",
    "# data = [0.013,0.976,-0.170,0.132,19.643,164.360,358.803]\n",
    "\n",
    "q1 = data[:4]\n",
    "q2 = [q1[3], q1[0], q1[1], q1[2]]\n",
    "\n",
    "euler = data[4:]\n",
    "euler_x, euler_y, euler_z = euler\n",
    "\n",
    "def quat_to_rotmat(quat):\n",
    "    qx, qy, qz, qw = quat\n",
    "\n",
    "    rot_mat = np.array([\n",
    "    [1-2*qy**2-2*qz**2, 2*qx*qy-2*qz*qw, 2*qx*qz+2*qy*qw],\n",
    "    [2*qx*qy+2*qz*qw, 1-2*qx**2-2*qz**2, 2*qy*qz-2*qx*qw],\n",
    "    [2*qx*qz-2*qy*qw, 2*qy*qz+2*qx*qw, 1-2*qx**2-2*qy**2]\n",
    "    ])\n",
    "\n",
    "    return rot_mat\n",
    "\n",
    "r1 = quat_to_rotmat(q1)\n",
    "print(r1)\n",
    "\n",
    "\n",
    "from pyquaternion import Quaternion\n",
    "Q2 = Quaternion(q2)\n",
    "r2 = Q2.rotation_matrix\n",
    "print(r2)\n",
    "\n",
    "print('r1-r2', np.abs(r1-r2).sum())\n",
    "\n",
    "print('\\nEuler')\n",
    "print(euler)\n",
    "\n",
    "z, y, x = Q2.euler_angles(\"YXZ\")\n",
    "print(np.degrees([x, y, z])%360)"
   ]
  },
  {
   "cell_type": "code",
   "execution_count": null,
   "metadata": {},
   "outputs": [],
   "source": []
  }
 ],
 "metadata": {
  "kernelspec": {
   "display_name": "Python 3",
   "language": "python",
   "name": "python3"
  },
  "language_info": {
   "codemirror_mode": {
    "name": "ipython",
    "version": 3
   },
   "file_extension": ".py",
   "mimetype": "text/x-python",
   "name": "python",
   "nbconvert_exporter": "python",
   "pygments_lexer": "ipython3",
   "version": "3.6.6"
  }
 },
 "nbformat": 4,
 "nbformat_minor": 4
}
