{
 "cells": [
  {
   "cell_type": "code",
   "execution_count": 2,
   "metadata": {},
   "outputs": [],
   "source": [
    "import pandas as pd\n",
    "import numpy as np\n",
    "import quaternion\n",
    "import json\n"
   ]
  },
  {
   "cell_type": "code",
   "execution_count": 15,
   "metadata": {},
   "outputs": [],
   "source": [
    "dataframe = pd.read_csv(\"video_1.csv\")\n",
    "trans = dataframe.iloc[:, [2, 4, 3, 5]]\n",
    "timeline = dataframe.iloc[:, 1].to_list()\n",
    "timeline = np.array(timeline)\n",
    "timeline = timeline[:, np.newaxis]"
   ]
  },
  {
   "cell_type": "code",
   "execution_count": 16,
   "metadata": {},
   "outputs": [],
   "source": [
    "qu_arr = np.array(trans.to_dict('split')['data'])\n",
    "u = quaternion.as_quat_array(qu_arr)\n",
    "spherical_coords = quaternion.as_spherical_coords(u)\n",
    "timelinedata = np.hstack((timeline, spherical_coords))"
   ]
  },
  {
   "cell_type": "code",
   "execution_count": 27,
   "metadata": {},
   "outputs": [
    {
     "output_type": "stream",
     "name": "stdout",
     "text": [
      "[3.13558974 4.84658001]\n[ 0.01019611 -3.11820825]\n"
     ]
    }
   ],
   "source": [
    "spherical_coords = quaternion.as_spherical_coords(u)\n",
    "print(np.max(spherical_coords, axis=0))\n",
    "print(np.min(spherical_coords, axis=0))"
   ]
  },
  {
   "cell_type": "code",
   "execution_count": 29,
   "metadata": {},
   "outputs": [],
   "source": [
    "select_time = 127\n",
    "slice_idx = (timeline > select_time) & (timeline < select_time+1)\n",
    "slice_idx = np.squeeze(slice_idx, 1)\n",
    "theta = spherical_coords[slice_idx, 0]\n",
    "phi = spherical_coords[slice_idx, 1]\n",
    "\n",
    "phi = phi / (2 * np.pi) + 0.5\n",
    "theta = 0.5 - theta / np.pi \n"
   ]
  },
  {
   "cell_type": "code",
   "execution_count": null,
   "metadata": {},
   "outputs": [],
   "source": []
  },
  {
   "cell_type": "code",
   "execution_count": 11,
   "metadata": {},
   "outputs": [
    {
     "output_type": "execute_result",
     "data": {
      "text/plain": [
       "                     Timestamp  PlaybackTime  UnitQuaternion.x  \\\n",
       "0      2016-11-17 02:14:42.322         0.000            -0.003   \n",
       "1      2016-11-17 02:14:42.334         0.021            -0.003   \n",
       "2      2016-11-17 02:14:42.345         0.043            -0.004   \n",
       "3      2016-11-17 02:14:42.356         0.043            -0.004   \n",
       "4      2016-11-17 02:14:42.371         0.043            -0.004   \n",
       "...                        ...           ...               ...   \n",
       "18175  2016-11-17 02:18:05.336       201.098             0.029   \n",
       "18176  2016-11-17 02:18:05.347       201.098             0.028   \n",
       "18177  2016-11-17 02:18:05.358       201.120             0.028   \n",
       "18178  2016-11-17 02:18:05.370       201.120             0.029   \n",
       "18179  2016-11-17 02:18:05.381       201.141             0.029   \n",
       "\n",
       "       UnitQuaternion.y  UnitQuaternion.z  UnitQuaternion.w  HmdPosition.x  \\\n",
       "0                 0.946            -0.021            -0.325         -0.073   \n",
       "1                 0.946            -0.021            -0.325         -0.074   \n",
       "2                 0.946            -0.021            -0.325         -0.074   \n",
       "3                 0.946            -0.022            -0.325         -0.074   \n",
       "4                 0.946            -0.022            -0.325         -0.074   \n",
       "...                 ...               ...               ...            ...   \n",
       "18175             0.939            -0.147             0.309         -0.080   \n",
       "18176             0.939            -0.146             0.309         -0.079   \n",
       "18177             0.939            -0.146             0.309         -0.079   \n",
       "18178             0.939            -0.145             0.309         -0.080   \n",
       "18179             0.939            -0.145             0.309         -0.080   \n",
       "\n",
       "       HmdPosition.y  HmdPosition.z  \n",
       "0              1.146         -0.221  \n",
       "1              1.146         -0.221  \n",
       "2              1.146         -0.221  \n",
       "3              1.146         -0.221  \n",
       "4              1.146         -0.221  \n",
       "...              ...            ...  \n",
       "18175          1.107         -0.231  \n",
       "18176          1.108         -0.231  \n",
       "18177          1.108         -0.231  \n",
       "18178          1.108         -0.231  \n",
       "18179          1.108         -0.231  \n",
       "\n",
       "[18180 rows x 9 columns]"
      ],
      "text/html": "<div>\n<style scoped>\n    .dataframe tbody tr th:only-of-type {\n        vertical-align: middle;\n    }\n\n    .dataframe tbody tr th {\n        vertical-align: top;\n    }\n\n    .dataframe thead th {\n        text-align: right;\n    }\n</style>\n<table border=\"1\" class=\"dataframe\">\n  <thead>\n    <tr style=\"text-align: right;\">\n      <th></th>\n      <th>Timestamp</th>\n      <th>PlaybackTime</th>\n      <th>UnitQuaternion.x</th>\n      <th>UnitQuaternion.y</th>\n      <th>UnitQuaternion.z</th>\n      <th>UnitQuaternion.w</th>\n      <th>HmdPosition.x</th>\n      <th>HmdPosition.y</th>\n      <th>HmdPosition.z</th>\n    </tr>\n  </thead>\n  <tbody>\n    <tr>\n      <th>0</th>\n      <td>2016-11-17 02:14:42.322</td>\n      <td>0.000</td>\n      <td>-0.003</td>\n      <td>0.946</td>\n      <td>-0.021</td>\n      <td>-0.325</td>\n      <td>-0.073</td>\n      <td>1.146</td>\n      <td>-0.221</td>\n    </tr>\n    <tr>\n      <th>1</th>\n      <td>2016-11-17 02:14:42.334</td>\n      <td>0.021</td>\n      <td>-0.003</td>\n      <td>0.946</td>\n      <td>-0.021</td>\n      <td>-0.325</td>\n      <td>-0.074</td>\n      <td>1.146</td>\n      <td>-0.221</td>\n    </tr>\n    <tr>\n      <th>2</th>\n      <td>2016-11-17 02:14:42.345</td>\n      <td>0.043</td>\n      <td>-0.004</td>\n      <td>0.946</td>\n      <td>-0.021</td>\n      <td>-0.325</td>\n      <td>-0.074</td>\n      <td>1.146</td>\n      <td>-0.221</td>\n    </tr>\n    <tr>\n      <th>3</th>\n      <td>2016-11-17 02:14:42.356</td>\n      <td>0.043</td>\n      <td>-0.004</td>\n      <td>0.946</td>\n      <td>-0.022</td>\n      <td>-0.325</td>\n      <td>-0.074</td>\n      <td>1.146</td>\n      <td>-0.221</td>\n    </tr>\n    <tr>\n      <th>4</th>\n      <td>2016-11-17 02:14:42.371</td>\n      <td>0.043</td>\n      <td>-0.004</td>\n      <td>0.946</td>\n      <td>-0.022</td>\n      <td>-0.325</td>\n      <td>-0.074</td>\n      <td>1.146</td>\n      <td>-0.221</td>\n    </tr>\n    <tr>\n      <th>...</th>\n      <td>...</td>\n      <td>...</td>\n      <td>...</td>\n      <td>...</td>\n      <td>...</td>\n      <td>...</td>\n      <td>...</td>\n      <td>...</td>\n      <td>...</td>\n    </tr>\n    <tr>\n      <th>18175</th>\n      <td>2016-11-17 02:18:05.336</td>\n      <td>201.098</td>\n      <td>0.029</td>\n      <td>0.939</td>\n      <td>-0.147</td>\n      <td>0.309</td>\n      <td>-0.080</td>\n      <td>1.107</td>\n      <td>-0.231</td>\n    </tr>\n    <tr>\n      <th>18176</th>\n      <td>2016-11-17 02:18:05.347</td>\n      <td>201.098</td>\n      <td>0.028</td>\n      <td>0.939</td>\n      <td>-0.146</td>\n      <td>0.309</td>\n      <td>-0.079</td>\n      <td>1.108</td>\n      <td>-0.231</td>\n    </tr>\n    <tr>\n      <th>18177</th>\n      <td>2016-11-17 02:18:05.358</td>\n      <td>201.120</td>\n      <td>0.028</td>\n      <td>0.939</td>\n      <td>-0.146</td>\n      <td>0.309</td>\n      <td>-0.079</td>\n      <td>1.108</td>\n      <td>-0.231</td>\n    </tr>\n    <tr>\n      <th>18178</th>\n      <td>2016-11-17 02:18:05.370</td>\n      <td>201.120</td>\n      <td>0.029</td>\n      <td>0.939</td>\n      <td>-0.145</td>\n      <td>0.309</td>\n      <td>-0.080</td>\n      <td>1.108</td>\n      <td>-0.231</td>\n    </tr>\n    <tr>\n      <th>18179</th>\n      <td>2016-11-17 02:18:05.381</td>\n      <td>201.141</td>\n      <td>0.029</td>\n      <td>0.939</td>\n      <td>-0.145</td>\n      <td>0.309</td>\n      <td>-0.080</td>\n      <td>1.108</td>\n      <td>-0.231</td>\n    </tr>\n  </tbody>\n</table>\n<p>18180 rows × 9 columns</p>\n</div>"
     },
     "metadata": {},
     "execution_count": 11
    }
   ],
   "source": [
    "dataframe"
   ]
  },
  {
   "cell_type": "code",
   "execution_count": 139,
   "metadata": {},
   "outputs": [],
   "source": [
    "# dataset = {}\n",
    "# dataset['user_1'] = timelinedata.tolist()\n",
    "# with open(\"viewerData.json\", 'w') as f:\n",
    "#      json.dump(dataset, f)"
   ]
  },
  {
   "cell_type": "code",
   "execution_count": 147,
   "metadata": {},
   "outputs": [
    {
     "data": {
      "text/plain": [
       "array([-1.56060296, -1.7315057 ])"
      ]
     },
     "execution_count": 147,
     "metadata": {},
     "output_type": "execute_result"
    }
   ],
   "source": [
    "# np.max(spherical_coords, axis=0)\n",
    "\n",
    "# np.min(spherical_coords, axis=0)"
   ]
  },
  {
   "cell_type": "code",
   "execution_count": 152,
   "metadata": {},
   "outputs": [],
   "source": [
    "def gettimelinedata(filepath):\n",
    "    dataframe = pd.read_csv(filepath)\n",
    "    trans = dataframe.iloc[:, [2, 3, 4, 5]]\n",
    "    timeline = dataframe.iloc[:, 1].to_list()\n",
    "    timeline = np.array(timeline)\n",
    "    timeline = timeline[:, np.newaxis]\n",
    "    qu_arr = np.array(trans.to_dict('split')['data'])\n",
    "    u = quaternion.as_quat_array(qu_arr)\n",
    "    spherical_coords = quaternion.as_spherical_coords(u) - [np.pi/2, 0]\n",
    "    timelinedata = np.hstack((timeline, spherical_coords))\n",
    "    return timelinedata.tolist()"
   ]
  },
  {
   "cell_type": "code",
   "execution_count": 153,
   "metadata": {},
   "outputs": [],
   "source": [
    "dataset = {}\n",
    "for idx in range(48):\n",
    "    filepath = \"Experiment_1/{}/video_1.csv\".format(idx+1)\n",
    "    user_id = \"user_{}\".format(idx+1)\n",
    "    timelinedata = gettimelinedata(filepath)\n",
    "    dataset[user_id] = timelinedata"
   ]
  },
  {
   "cell_type": "code",
   "execution_count": 155,
   "metadata": {},
   "outputs": [],
   "source": [
    "with open(\"viewerData.json\", 'w') as f:\n",
    "     json.dump(dataset, f)"
   ]
  },
  {
   "cell_type": "code",
   "execution_count": null,
   "metadata": {},
   "outputs": [],
   "source": []
  }
 ],
 "metadata": {
  "kernelspec": {
   "name": "python366jvsc74a57bd0b7dff2d6792865fa0386cd52f2320fb02ec336aaacaeedf99075e2ef64102aa3",
   "display_name": "Python 3.6.6 64-bit"
  },
  "language_info": {
   "codemirror_mode": {
    "name": "ipython",
    "version": 3
   },
   "file_extension": ".py",
   "mimetype": "text/x-python",
   "name": "python",
   "nbconvert_exporter": "python",
   "pygments_lexer": "ipython3",
   "version": "3.6.6"
  }
 },
 "nbformat": 4,
 "nbformat_minor": 4
}